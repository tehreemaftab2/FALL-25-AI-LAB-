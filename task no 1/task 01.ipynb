{
 "cells": [
  {
   "cell_type": "code",
   "execution_count": 16,
   "id": "db9b831f",
   "metadata": {},
   "outputs": [
    {
     "name": "stdout",
     "output_type": "stream",
     "text": [
      "Expression: 1+2*3*(4-5/4)-(3/5)\n",
      "Answer = 16.9\n"
     ]
    }
   ],
   "source": [
    "import re \n",
    "exp = \"1+2×3(4-5÷4)-(3÷5)\"\n",
    "\n",
    "exp = exp.replace('×', '*')\n",
    "exp = exp.replace('÷', '/')\n",
    "exp = re.sub(r'(\\d)\\(', r'\\1*(', exp)\n",
    "ans = eval(exp)\n",
    "\n",
    "print(\"Expression:\", exp)\n",
    "print(\"Answer =\", ans)\n"
   ]
  },
  {
   "cell_type": "code",
   "execution_count": 17,
   "id": "b7cd5e32",
   "metadata": {},
   "outputs": [
    {
     "name": "stdout",
     "output_type": "stream",
     "text": [
      "5/4= 1.25\n",
      "4-5/4= 2.75\n",
      "3*(4-5/4)= 8.25\n",
      "2*previous= 16.5\n",
      "3/5= 0.6\n",
      "Answer= 16.9\n"
     ]
    }
   ],
   "source": [
    "# expression: 1+2*3(4-5/4)-(3/5)\n",
    "step1=5/4\n",
    "print(\"5/4=\",step1)\n",
    "step2=4-step1\n",
    "print(\"4-5/4=\",step2)\n",
    "step3=3*step2\n",
    "print(\"3*(4-5/4)=\",step3)\n",
    "step4=2*step3\n",
    "print(\"2*previous=\",step4)\n",
    "step5=3/5\n",
    "print(\"3/5=\",step5)\n",
    "\n",
    "result=1+step4-step5\n",
    "print(\"Answer=\",result)"
   ]
  }
 ],
 "metadata": {
  "kernelspec": {
   "display_name": "Python 3",
   "language": "python",
   "name": "python3"
  },
  "language_info": {
   "codemirror_mode": {
    "name": "ipython",
    "version": 3
   },
   "file_extension": ".py",
   "mimetype": "text/x-python",
   "name": "python",
   "nbconvert_exporter": "python",
   "pygments_lexer": "ipython3",
   "version": "3.10.11"
  }
 },
 "nbformat": 4,
 "nbformat_minor": 5
}
